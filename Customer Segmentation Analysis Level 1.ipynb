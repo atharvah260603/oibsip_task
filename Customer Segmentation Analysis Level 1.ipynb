import numpy as np
import pandas as pd
import matplotlib.pyplot as plt
import seaborn as sns
from sklearn.cluster import KMeans
from sklearn.preprocessing import StandardScaler
import warnings
warnings.filterwarnings("ignore")
from google.colab import drive
drive.mount('/content/drive')
dataset = '/content/drive/MyDrive/Colab Notebooks/ifood_df.csv'
df = pd.read_csv(dataset , encoding = 'unicode_escape')
df
df.head()
df.tail()
df.shape
print(f"Feature names : {df.columns.values}")
df["AcceptedCmpOverall"].value_counts()
df["AcceptedCmpOverall"].value_counts().plot(kind = "bar" , color=["salmon" , "lightblue" , "red" , "green"])
df.isna().sum()
df.describe()
df.nunique()
if 'MntTotal' in df.columns:
    MntTotal = df['MntTotal'].mean()
    print(f"MntTotal: {MntTotal:.2f}")


if 'MntRegularProds' in df.columns:
    MntRegularProds = df['MntRegularProds'].mean()
    print(f"MntRegularProds: {MntRegularProds:.2f}")

# Selecting relevant features for clustering
features = ['MntTotal', 'MntRegularProds']
if all(feature in df.columns for feature in features):
    X = df[features]

    # Scaling the features
    scaler = StandardScaler()
    X_scaled = scaler.fit_transform(X)

features = ['MntTotal', 'MntRegularProds']
if all(feature in df.columns for feature in features):
    X = df[features]

plt.figure(figsize=(6, 4))
sns.boxplot(data=df, y='MntTotal')
plt.title('Box Plot for MntTotal')
plt.ylabel('MntTotal')
plt.show()

plt.figure(figsize=(8, 6))
sns.histplot(data=df, x='Income', bins=30, kde=True)
plt.title('Histogram for Income')
plt.xlabel('Income')
plt.ylabel('Frequency')
plt.show()

def get_marital_status(row):
    if row['marital_Divorced'] == 1:
        return 'Divorced'
    elif row['marital_Married'] == 1:
        return 'Married'
    elif row['marital_Single'] == 1:
        return 'Single'
    elif row['marital_Together'] == 1:
        return 'Together'
    elif row['marital_Widow'] == 1:
        return 'Widow'
    else:
        return 'Unknown'
df['Marital'] = df.apply(get_marital_status, axis=1)

plt.figure(figsize=(8, 6))
sns.barplot(x='Marital', y='MntTotal', data=df, palette='viridis')
plt.title('MntTotal by marital status')
plt.xlabel('Marital status')
plt.ylabel('MntTotal')

scaler = StandardScaler()
cols_for_clustering = ['Income', 'MntTotal', 'marital_Together']
data_scaled = df.copy()
data_scaled[cols_for_clustering] = scaler.fit_transform(df[cols_for_clustering])
data_scaled[cols_for_clustering].describe()

X = data_scaled[cols_for_clustering]
inertia_list = []
for K in range(2,10):
    inertia = KMeans(n_clusters=K, random_state=7).fit(X).inertia_
    inertia_list.append(inertia)

plt.figure(figsize=[7,5])
plt.plot(range(2,10), inertia_list, color=(54 / 255, 113 / 255, 130 / 255))
plt.title("Inertia vs. Number of Clusters")
plt.xlabel("Number of Clusters (K)")
plt.ylabel("Inertia")
plt.show()

model = KMeans(n_clusters=4, random_state = 7)
model.fit(data_scaled[cols_for_clustering])
data_scaled['Cluster'] = model.predict(data_scaled[cols_for_clustering])

df['Cluster'] = data_scaled.Cluster
df.groupby('Cluster')[cols_for_clustering].mean()

cluster_sizes = df.groupby('Cluster')[['MntTotal']].count().reset_index()
plt.figure(figsize=(8,6))
sns.barplot(x='Cluster', y='MntTotal', data=cluster_sizes, palette = 'viridis')
plt.title('Cluster sizes')
plt.xlabel('Cluster')
plt.ylabel('MntTotal')

plt.figure(figsize=(8, 6))
sns.scatterplot(x='Income', y='MntTotal', data=df, hue = 'Cluster', palette='viridis')
plt.title('Income by cluster')
plt.xlabel('Income')
plt.ylabel('MntTotal')
plt.legend(title='Clusters')

# Insights

# Cluster 0: High value customers in relationship (either married or together)
# Cluster 1: Low value single customers - for them to purchase they should be offered discounts and coupons
# Cluster 2: High value single customers
# Cluster 3: Low value customers in relationship
