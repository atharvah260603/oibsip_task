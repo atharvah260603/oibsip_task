import numpy as np
import pandas as pd
import matplotlib.pyplot as plt
import seaborn as sns
from datetime import datetime

from statsmodels.tsa.arima.model import ARIMA

from google.colab import drive
drive.mount('/content/drive')

dataset = '/content/drive/MyDrive/Colab Notebooks/retail_sales_dataset.csv'
df = pd.read_csv(dataset , encoding = 'unicode_escape')
df
df.shape
df.head()
df.tail()
df["Total Amount"].value_counts()
df["Total Amount"].value_counts().plot(kind = "bar" , color=["salmon" , "lightblue"])
df.isna().sum()
df.describe()
quantity_per_category = df.groupby('Product Category')['Quantity'].sum().sort_values(ascending=False)
print("\nQuantity Sold per Product Category:")
print(quantity_per_category)
avg_price_category = df.groupby('Product Category')['Price per Unit'].mean()
print("\nAverage Price per Unit by Product Category:")
print(avg_price_category)
df['Age'].fillna(df['Age'].median())

category_sales = df.groupby('Quantity')['Total Amount'].sum()

plt.figure(figsize=(8,8))
plt.pie(category_sales, labels=category_sales.index, autopct='%1.1f%%', startangle=90, colors=sns.color_palette("coolwarm", len(category_sales)))
plt.title('Proportion of Sales by Category')
plt.axis('equal')
plt.show()

corr_matrix = df[['Age', 'Quantity', 'Price per Unit', 'Total Amount']].corr()

plt.figure(figsize=(8,6))
sns.heatmap(corr_matrix, annot=True, cmap='coolwarm', linewidths=0.5)
plt.title('Correlation Heatmap')
plt.show()

# Time Series Analysis

# Fit ARIMA model (using p=1, d=1, q=1 as an example)
arima_model = ARIMA(df['Price per Unit'], order=(1,1,1))
arima_result = arima_model.fit()

# Summary of the model
print("\nARIMA Model Summary:")
print(arima_result.summary())

# Forecast the next 10 periods (based on the frequency of your data)
forecast = arima_result.forecast(steps=10)
print("\nForecasted Sales for the Next 10 Periods:")
print(forecast)

# Plot the forecasted sales
plt.figure(figsize=(10, 6))
plt.plot(forecast, marker='o', linestyle='-', label='Forecasted Sales')
plt.title('Forecasted Sales for Next 10 Periods')
plt.xlabel('Periods')
plt.ylabel('Sales')
plt.legend()
plt.grid(True)
plt.show()

mode_values = df.mode().iloc[0]
print("\nMode Values:")
print(mode_values)

# Customer Demographics

plt.figure(figsize=(10,6))
sns.histplot(df['Age'], bins=20, kde=True)
plt.title('Age Distribution of Customers')
plt.xlabel('Age')
plt.ylabel('Number of Customers')
plt.show()

# Gender Distribution
plt.figure(figsize=(8,6))
sns.countplot(x='Gender', data=df)
plt.title('Gender Distribution of Customers')
plt.xlabel('Gender')
plt.ylabel('Count')
plt.show()

# Purchasing Behaviour of Customers

top_customers = df.groupby('Customer ID')['Total Amount'].sum().sort_values(ascending=False).head(10)
print("\nTop 10 Customers by Total Spending:")
print(top_customers)

# Average Purchase Value by Gender
avg_purchase_gender = df.groupby('Gender')['Total Amount'].mean()
print("\nAverage Purchase Value by Gender:")
print(avg_purchase_gender)

# Product Category Analysis
product_category_sales = df.groupby('Product Category')['Total Amount'].sum().sort_values(ascending=False)
print("\nSales by Product Category:")
print(product_category_sales)

# Some Recommendations based on the EDA are :
recommendations = ["The focus should be high on the categories of product that are generating the highest revenue for good profit",
                   "In the time series analysis identify the time period where the sale is high",
                   "One should sell the product or do promotions of the product to the category of people that show high interest in purchasing the product"]
