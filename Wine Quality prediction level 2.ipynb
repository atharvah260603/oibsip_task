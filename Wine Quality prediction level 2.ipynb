import pandas as pd
import seaborn as sns
import matplotlib.pyplot as plt
from sklearn.ensemble import RandomForestClassifier
from sklearn.svm import SVC
from sklearn.linear_model import SGDClassifier
from sklearn.metrics import confusion_matrix, classification_report
from sklearn.preprocessing import StandardScaler, LabelEncoder
from sklearn.model_selection import train_test_split, GridSearchCV, cross_val_score
%matplotlib inline
from google.colab import drive
drive.mount('/content/drive')
dataset = '/content/drive/MyDrive/Colab Notebooks/WineQT.csv'
df = pd.read_csv(dataset , encoding = 'unicode_escape')
df
df.head()
df.tail()
df.shape
print(f"Feature names : {df.columns.values}")
# Check for missing values
print("\nMissing Values:")
print(df.isnull().sum())
duplicate_rows = df[df.duplicated()]
print("\nDuplicate Rows: ", duplicate_rows.shape[0])
print("\nData after Cleaning:")
print(df.head())
df.isnull().sum()
print("\nSummary Statistics:")
print(df.describe())
bins = (2, 6.5, 8)
group_names = ['bad', 'good']
df['quality'] = pd.cut(df['quality'], bins = bins, labels = group_names)
label_quality = LabelEncoder()
df['quality'] = label_quality.fit_transform(df['quality'])
import numpy as np
df['quality'].value_counts()
print(np.unique(df['quality']))
X = df.drop('quality', axis = 1)
y = df['quality']
X_train, X_test, y_train, y_test = train_test_split(X, y, test_size = 0.2, random_state = 42)
sc = StandardScaler()
X_train = sc.fit_transform(X_train)
X_test = sc.fit_transform(X_test)
# Random Forest Classifier

rfc = RandomForestClassifier(n_estimators=200)
rfc.fit(X_train, y_train)
pred_rfc = rfc.predict(X_test)
print(classification_report(y_test, pred_rfc))
print(confusion_matrix(y_test, pred_rfc))
# Stochastic Gradient Decent Classifier

sgd = SGDClassifier(penalty=None)
sgd.fit(X_train, y_train)
pred_sgd = sgd.predict(X_test)

print(classification_report(y_test, pred_sgd))

print(confusion_matrix(y_test, pred_sgd))
# Support Vector Classifier

svc = SVC()
svc.fit(X_train, y_train)
pred_svc = svc.predict(X_test)
print(classification_report(y_test, pred_svc))
plt.figure(figsize=(10, 6))
sns.scatterplot(data=df, x='alcohol', y='quality', size='alcohol', hue='alcohol', palette='coolwarm')
plt.title('Quality of Alcohol')
plt.xlabel('alcohol')
plt.ylabel('quality')
plt.show()
plt.figure(figsize=(10, 6))
sns.barplot(x='alcohol', y='quality', data=df, estimator=sum, ci=None)
plt.title('Quality of alcohol')
plt.xlabel('alcohol')
plt.ylabel('quality')
plt.xticks(rotation=45)
plt.show()

quality = df.groupby('quality')['alcohol'].sum()

plt.figure(figsize=(8,8))
plt.pie(quality, labels=quality.index, autopct='%1.1f%%', startangle=90, colors=sns.color_palette("coolwarm", len(quality)))
plt.title('Quality of alcohol')
plt.axis('equal')  # Equal aspect ratio ensures the pie is drawn as a circle
plt.show()

